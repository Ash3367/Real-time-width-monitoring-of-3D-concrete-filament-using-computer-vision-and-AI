{
 "cells": [
  {
   "cell_type": "code",
   "execution_count": 1,
   "id": "1326fa97",
   "metadata": {},
   "outputs": [],
   "source": [
    "import os\n",
    "import cv2\n",
    "import numpy as np\n",
    "from sklearn.model_selection import train_test_split\n",
    "from tensorflow.keras.models import Model\n",
    "from tensorflow.keras.layers import Input, Conv2D, MaxPooling2D, UpSampling2D, concatenate"
   ]
  },
  {
   "cell_type": "code",
   "execution_count": 2,
   "id": "dc199d7d",
   "metadata": {},
   "outputs": [],
   "source": [
    "# Function to load images and masks from a folder\n",
    "\n",
    "def load_data(data_folder, labels_folder):\n",
    "    images = []\n",
    "    masks = []\n",
    "    \n",
    "    for filename in os.listdir(data_folder):\n",
    "        if filename.endswith(\".png\") or filename.endswith(\".jpg\"):  # Adjust file extensions as needed\n",
    "            file_path = os.path.join(data_folder, filename)\n",
    "            \n",
    "            # Load and resize the image\n",
    "            image = cv2.imread(file_path)\n",
    "            image = cv2.resize(image, (480, 640))  # Resize to match your model input size\n",
    "            images.append(image)\n",
    "            \n",
    "            # Load and resize the corresponding mask\n",
    "#             mask_filename = filename.replace(\".png\", \"_mask.png\")  # Assuming mask filenames follow a pattern\n",
    "            mask_path = os.path.join(labels_folder, filename)\n",
    "            mask = cv2.imread(mask_path, cv2.IMREAD_GRAYSCALE)\n",
    "        \n",
    "            \n",
    "            # Check if the mask is not empty before resizing\n",
    "            if mask is not None and not mask.size == 0:\n",
    "                mask = cv2.resize(mask, (480, 640))  # Resize to match your model input size\n",
    "                masks.append(mask)\n",
    "            else:\n",
    "                print(f\"Warning: Mask is empty for {filename}\")\n",
    "                       \n",
    "\n",
    "    return np.array(images), np.array(masks)\n",
    "\n",
    "# Load data\n",
    "train_data_folder = \"C:\\\\Users\\\\ashis\\\\OneDrive\\\\Desktop\\\\New folder\\\\data_Grayscale\\\\train_actual\"\n",
    "test_data_folder = \"C:\\\\Users\\\\ashis\\\\OneDrive\\\\Desktop\\\\New folder\\\\data_Grayscale\\\\test\"\n",
    "val_data_folder = \"C:\\\\Users\\\\ashis\\\\OneDrive\\\\Desktop\\\\New folder\\\\data_Grayscale\\\\validate\"\n",
    "\n",
    "train_labels_folder = \"C:\\\\Users\\\\ashis\\\\OneDrive\\\\Desktop\\\\New folder\\\\data_label\\\\train_actual_label\"\n",
    "test_labels_folder = \"C:\\\\Users\\\\ashis\\\\OneDrive\\\\Desktop\\\\New folder\\\\data_label\\\\test_label\"\n",
    "val_labels_folder = \"C:\\\\Users\\\\ashis\\\\OneDrive\\\\Desktop\\\\New folder\\\\data_label\\\\validate_label\"\n",
    "# test_labels_folder = \"C:\\\\Users\\\\ashis\\\\OneDrive\\\\Desktop\\\\New folder\\\\binary_label\\\\test_label\"\n",
    "\n",
    "train_images, train_masks = load_data(train_data_folder, train_labels_folder)\n",
    "test_images, test_masks = load_data(test_data_folder, test_labels_folder)\n",
    "val_images, val_masks = load_data(val_data_folder, val_labels_folder)\n"
   ]
  },
  {
   "cell_type": "code",
   "execution_count": 3,
   "id": "118b8050",
   "metadata": {},
   "outputs": [],
   "source": [
    "# Function to define U-Net model\n",
    "def unet_model(input_size=(640, 480, 3)):\n",
    "    inputs = Input(input_size)\n",
    "    \n",
    "    # Encoder\n",
    "    conv1 = Conv2D(64, 3, activation='relu', padding='same')(inputs)\n",
    "    conv1 = Conv2D(64, 3, activation='relu', padding='same')(conv1)\n",
    "    pool1 = MaxPooling2D(pool_size=(2, 2))(conv1)\n",
    "    \n",
    "    # Decoder\n",
    "    conv2 = Conv2D(128, 3, activation='relu', padding='same')(pool1)\n",
    "    conv2 = Conv2D(128, 3, activation='relu', padding='same')(conv2)\n",
    "    up1 = UpSampling2D(size=(2, 2))(conv2)\n",
    "    \n",
    "    # Output layer\n",
    "    output = Conv2D(1, 1, activation='sigmoid')(up1)\n",
    "    \n",
    "    model = Model(inputs=inputs, outputs=output)\n",
    "    return model\n",
    "\n",
    "\n",
    "# Define and compile the U-Net model\n",
    "model = unet_model()\n",
    "model.compile(optimizer='adam', loss='binary_crossentropy', metrics=['accuracy'])\n",
    "\n"
   ]
  },
  {
   "cell_type": "code",
   "execution_count": null,
   "id": "987a784b",
   "metadata": {},
   "outputs": [
    {
     "name": "stdout",
     "output_type": "stream",
     "text": [
      "Epoch 1/5\n"
     ]
    }
   ],
   "source": [
    "# Train the model\n",
    "model.fit(train_images, train_masks, validation_data=(val_images, val_masks), epochs=5, batch_size=32)\n",
    "\n",
    "# Evaluate the model on the test set\n",
    "loss, accuracy = model.evaluate(test_images, test_masks)\n",
    "print(f'Test Loss: {loss}, Test Accuracy: {accuracy}')"
   ]
  },
  {
   "cell_type": "code",
   "execution_count": null,
   "id": "c25d3a87",
   "metadata": {},
   "outputs": [],
   "source": [
    "# Save the trained model\n",
    "model.save('unet_model.h5')"
   ]
  },
  {
   "cell_type": "markdown",
   "id": "b55e3c5c",
   "metadata": {},
   "source": [
    "try: 1"
   ]
  },
  {
   "cell_type": "code",
   "execution_count": null,
   "id": "527298e6",
   "metadata": {},
   "outputs": [],
   "source": [
    "# Test the model on a new video\n",
    "# Assuming 'video_path' is the path to your video file\n",
    "video_path = \"C:\\\\path\\\\to\\\\your\\\\video.mp4\"\n",
    "cap = cv2.VideoCapture(video_path)\n",
    "\n",
    "# Define a function to apply the trained U-Net model to each frame of the video\n",
    "def apply_unet(frame):\n",
    "    frame_resized = cv2.resize(frame, (640, 480))  # Resize to match the model input size\n",
    "    frame_input = np.expand_dims(frame_resized, axis=0)\n",
    "    predicted_mask = model.predict(frame_input)\n",
    "    return predicted_mask[0]\n",
    "\n",
    "# Process each frame of the video\n",
    "while cap.isOpened():\n",
    "    ret, frame = cap.read()\n",
    "    if not ret:\n",
    "        break\n",
    "    \n",
    "    # Apply the U-Net model to get the predicted mask\n",
    "    predicted_mask = apply_unet(frame)\n",
    "    \n",
    "    # Display the original frame and the predicted mask\n",
    "    cv2.imshow(\"Original Frame\", frame)\n",
    "    cv2.imshow(\"Predicted Mask\", predicted_mask)\n",
    "    \n",
    "    if cv2.waitKey(1) & 0xFF == ord('q'):\n",
    "        break\n",
    "\n",
    "cap.release()\n",
    "cv2.destroyAllWindows()\n"
   ]
  },
  {
   "cell_type": "code",
   "execution_count": null,
   "id": "13cfc6c0",
   "metadata": {},
   "outputs": [],
   "source": []
  }
 ],
 "metadata": {
  "kernelspec": {
   "display_name": "Python 3 (ipykernel)",
   "language": "python",
   "name": "python3"
  },
  "language_info": {
   "codemirror_mode": {
    "name": "ipython",
    "version": 3
   },
   "file_extension": ".py",
   "mimetype": "text/x-python",
   "name": "python",
   "nbconvert_exporter": "python",
   "pygments_lexer": "ipython3",
   "version": "3.10.9"
  }
 },
 "nbformat": 4,
 "nbformat_minor": 5
}
